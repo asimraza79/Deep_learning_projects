{
  "nbformat": 4,
  "nbformat_minor": 0,
  "metadata": {
    "colab": {
      "provenance": []
    },
    "kernelspec": {
      "name": "python3",
      "display_name": "Python 3"
    },
    "language_info": {
      "name": "python"
    }
  },
  "cells": [
    {
      "cell_type": "markdown",
      "source": [
        "**Importing Resnet50**"
      ],
      "metadata": {
        "id": "hzjISq50u1zH"
      }
    },
    {
      "cell_type": "code",
      "source": [
        "from tensorflow.keras.applications.resnet50 import ResNet50\n",
        "from tensorflow.keras.preprocessing import image\n",
        "from tensorflow.keras.applications.resnet50 import preprocess_input,decode_predictions\n",
        "import numpy as np"
      ],
      "metadata": {
        "id": "SNhYaACjuivM"
      },
      "execution_count": 7,
      "outputs": []
    },
    {
      "cell_type": "markdown",
      "source": [
        "**Using ImageNet dataset for predictions**"
      ],
      "metadata": {
        "id": "br0j5U1FyCz0"
      }
    },
    {
      "cell_type": "code",
      "source": [
        "model= ResNet50(weights='imagenet')"
      ],
      "metadata": {
        "colab": {
          "base_uri": "https://localhost:8080/"
        },
        "id": "n3r1OWD6vU7y",
        "outputId": "dda7f377-3022-4815-b175-17b470b46a53"
      },
      "execution_count": 8,
      "outputs": [
        {
          "output_type": "stream",
          "name": "stdout",
          "text": [
            "Downloading data from https://storage.googleapis.com/tensorflow/keras-applications/resnet/resnet50_weights_tf_dim_ordering_tf_kernels.h5\n",
            "102967424/102967424 [==============================] - 0s 0us/step\n"
          ]
        }
      ]
    },
    {
      "cell_type": "code",
      "source": [
        "image_path='/content/banana.jpg'\n",
        "img=image.load_img(image_path,target_size=(224,224))\n",
        "x= image.img_to_array(img)\n",
        "x= np.expand_dims(x,axis=0)\n",
        "x=preprocess_input(x)"
      ],
      "metadata": {
        "id": "tEDjceJDwPQR"
      },
      "execution_count": 9,
      "outputs": []
    },
    {
      "cell_type": "markdown",
      "source": [
        "**Prediction Time**"
      ],
      "metadata": {
        "id": "o3SS-uGNx61p"
      }
    },
    {
      "cell_type": "code",
      "source": [
        "pred = model.predict(x)\n",
        "print('Predicted', decode_predictions(pred, top=3)[0])"
      ],
      "metadata": {
        "colab": {
          "base_uri": "https://localhost:8080/"
        },
        "id": "OG7YoB_Kw_iJ",
        "outputId": "c7a9acdf-a002-4ad7-c8c2-acb23c50c070"
      },
      "execution_count": 10,
      "outputs": [
        {
          "output_type": "stream",
          "name": "stdout",
          "text": [
            "1/1 [==============================] - 2s 2s/step\n",
            "Downloading data from https://storage.googleapis.com/download.tensorflow.org/data/imagenet_class_index.json\n",
            "35363/35363 [==============================] - 0s 0us/step\n",
            "Predicted [('n07753592', 'banana', 0.9963731), ('n07716358', 'zucchini', 0.001498971), ('n07747607', 'orange', 0.00076246203)]\n"
          ]
        }
      ]
    },
    {
      "cell_type": "code",
      "source": [],
      "metadata": {
        "id": "xMJ_p6FwxdTz"
      },
      "execution_count": null,
      "outputs": []
    }
  ]
}